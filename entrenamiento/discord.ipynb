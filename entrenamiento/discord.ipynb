{
 "cells": [
  {
   "cell_type": "code",
   "execution_count": 5,
   "metadata": {},
   "outputs": [
    {
     "name": "stdout",
     "output_type": "stream",
     "text": [
      "Precio en StockX: StockX\n",
      "StockX Logo\n",
      "News\n",
      "About\n",
      "Opens In New Tab\n",
      "Help\n",
      "Sell\n",
      "Login\n",
      "Sign Up\n"
     ]
    }
   ],
   "source": [
    "from selenium import webdriver\n",
    "from selenium.webdriver.common.by import By\n",
    "from selenium.webdriver.chrome.service import Service\n",
    "from webdriver_manager.chrome import ChromeDriverManager\n",
    "\n",
    "def obtener_precio_stockx_selenium(zapatilla):\n",
    "    # Configurar el driver de Selenium\n",
    "    options = webdriver.ChromeOptions()\n",
    "    options.add_argument(\"--headless\")  # Para que no abra el navegador\n",
    "    options.add_argument(\"--disable-blink-features=AutomationControlled\")  # Evitar detección de bot\n",
    "    driver = webdriver.Chrome(service=Service(ChromeDriverManager().install()), options=options)\n",
    "\n",
    "    # Buscar la zapatilla en StockX\n",
    "    query = zapatilla.replace(\" \", \"-\")\n",
    "    url = f\"https://stockx.com/search?s={query}\"\n",
    "    driver.get(url)\n",
    "\n",
    "    try:\n",
    "        # Extraer el precio de la primera zapatilla que aparece\n",
    "        precio_elemento = driver.find_element(By.CLASS_NAME, \"css-0\")\n",
    "        precio = precio_elemento.text\n",
    "        driver.quit()\n",
    "        return f\"Precio en StockX: {precio}\"\n",
    "    except:\n",
    "        driver.quit()\n",
    "        return \"No se pudo obtener el precio.\"\n",
    "\n",
    "# Ejemplo de uso\n",
    "print(obtener_precio_stockx_selenium(\"Adidas Yeezy Boost 350 V2 Zebra\"))\n",
    "\n"
   ]
  },
  {
   "cell_type": "code",
   "execution_count": null,
   "metadata": {},
   "outputs": [],
   "source": []
  }
 ],
 "metadata": {
  "kernelspec": {
   "display_name": "Python 3",
   "language": "python",
   "name": "python3"
  },
  "language_info": {
   "codemirror_mode": {
    "name": "ipython",
    "version": 3
   },
   "file_extension": ".py",
   "mimetype": "text/x-python",
   "name": "python",
   "nbconvert_exporter": "python",
   "pygments_lexer": "ipython3",
   "version": "3.12.7"
  }
 },
 "nbformat": 4,
 "nbformat_minor": 2
}
