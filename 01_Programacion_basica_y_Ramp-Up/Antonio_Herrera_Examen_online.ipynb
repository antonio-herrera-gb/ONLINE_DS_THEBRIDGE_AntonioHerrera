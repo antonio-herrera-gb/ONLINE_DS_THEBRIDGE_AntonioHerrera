{
 "cells": [
  {
   "cell_type": "markdown",
   "id": "1f1401c1-4dc9-4902-95bf-160715a42a25",
   "metadata": {},
   "source": [
    "# Prueba de Ramp-up"
   ]
  },
  {
   "cell_type": "markdown",
   "id": "1b34c670-a6dd-482d-9b04-5babee7be17a",
   "metadata": {},
   "source": [
    "Antes de comenzar, cambia el nombre del archivo notebook poniéndole delante tu nombre y primer apellido:\n",
    "\n",
    "* ``<nombre_apellido>_examen_online.ipynb``"
   ]
  },
  {
   "cell_type": "code",
   "execution_count": null,
   "id": "c8d9a657-272c-425a-9ac4-ea59f479673c",
   "metadata": {},
   "outputs": [],
   "source": [
    "# Escribe tu nombre en la variable:\n",
    "nombre_y_apellidos = \"Antonio Herrera Garcia-Baquero\" \n",
    "\n",
    "# Se borraron todos los outputs de comprobacion"
   ]
  },
  {
   "cell_type": "code",
   "execution_count": 36,
   "id": "2e9f9af5-076c-44ec-9a80-95c0e99cdc58",
   "metadata": {},
   "outputs": [],
   "source": [
    "\"\"\"\n",
    "Criterios de corrección:\n",
    "\n",
    "ejecución (ausencia de errores y obtención de resultados)\n",
    "estructura del código\n",
    "uso correcto de variables\n",
    "manejo de tipo de variables\n",
    "asignaciones\n",
    "operaciones booleanas\n",
    "manejo lógico de flujos de control y bucles\n",
    "uso de colecciones\n",
    "uso de funciones\n",
    "\"\"\";\n",
    "\n",
    "# Ejemplo de como queremos ver el código para más de un intento:\n",
    "\n",
    "# intento 1\n",
    "#your code\n",
    "\n",
    "# intento 2\n",
    "#your code"
   ]
  },
  {
   "cell_type": "code",
   "execution_count": 37,
   "id": "bb16d0e3-3bb9-4f2b-944e-8fc35e628701",
   "metadata": {},
   "outputs": [],
   "source": [
    "# crea todas las celdas que necesites"
   ]
  },
  {
   "cell_type": "markdown",
   "id": "9e02b8f5-6f66-4e73-acfa-7f8c3977de2a",
   "metadata": {},
   "source": [
    "#### Notas y pruebas de apoyo para contestar las preguntas\n",
    "\n",
    "\n",
    "Cualquier código aunque no esté correcto nos dirá más de ti que no escribir nada. "
   ]
  },
  {
   "cell_type": "markdown",
   "id": "57d6b062-27f8-4377-b583-d662777b0bd7",
   "metadata": {},
   "source": [
    "__Debes subir este notebook a tu REPO PERSONAL__\n",
    "\n",
    "__Hora: hasta las 13:30 del 06/11/2024__"
   ]
  },
  {
   "cell_type": "markdown",
   "id": "062d81e8",
   "metadata": {},
   "source": [
    "#### Ejercicio 1\n",
    "\n",
    "Disponemos de una lista con información sobre varios empleados:\n",
    "\n",
    "    empleados = \n",
    "    [[12345, \"Juan Rodríguez\", 53, [\"Director financiero\"], 2],[56789, \"Laura Pérez\", 41, [\"CEO\", \"Director\", \"Gerente\"], 2],[88354, \"Pedro Álvarez\", 26, [\"Asistente\",\"Gestor comercial\"], 3]]\n",
    "\n",
    "Respecto de cada empleado, la lista contiene cinco elementos: en el primero almacenamos su tfno, en el segundo su nombre, en el tercero su edad, en el cuarto los puestos que ha desempeñado en la empresa (en forma de lista) y en el quinto su código postal.\n",
    "\n",
    "1. Siguiendo la misma estructura, incluye un nuevo empleado en la última posición de la lista empleados.\n",
    "\n",
    "2. Mostrar por pantalla, sin uso de funciones (salvo print) ni bucles: \n",
    "\n",
    "    - El nombre y la edad del tercer empleado de la lista empleados.\n",
    "    - Los puestos desempeñados por Pedro Álvarez, ordenados de atras a adelante (es decir, de Gestor comercial a Asistente)\n",
    "    - Si el nuevo empleado que has añadido tiene más o igual a 60 años, muestra por pantalla los puestos que el nuevo empleado haya desempeñado en la empresa. En caso contrario, muestra los puestos desempeñados por Laura Pérez y Juan Rodriguez."
   ]
  },
  {
   "cell_type": "code",
   "execution_count": 38,
   "id": "3fd5dced",
   "metadata": {},
   "outputs": [
    {
     "name": "stdout",
     "output_type": "stream",
     "text": [
      "[[12345, 'Juan Rodríguez', 53, ['Director financiero'], 2], [56789, 'Laura Pérez', 41, ['CEO', 'Director', 'Gerente'], 2], [88354, 'Pedro Álvarez', 26, ['Asistente', 'Gestor comercial'], 3], [33333, 'Antonio Herrera', 23, ['Sales'], 41]]\n"
     ]
    }
   ],
   "source": [
    "# **SE ME BORRO EL OUTPUT PARA PODERLO COMPARAR CON EL MIO**\n",
    "# ADJUNTAMOS LA VARIABLE EMPLEADOS QUE NOS FACILITAN\n",
    "empleados = [[12345, \"Juan Rodríguez\", 53, [\"Director financiero\"], 2],[56789, \"Laura Pérez\", 41, [\"CEO\", \"Director\", \"Gerente\"], 2],[88354, \"Pedro Álvarez\", 26, [\"Asistente\",\"Gestor comercial\"], 3]]\n",
    "\n",
    "# CREAMOS EL NUEVO EMPLEADO\n",
    "nuevo_empleado = [33333, \"Antonio Herrera\", 23, [\"Sales\"], 41]\n",
    "\n",
    "# AÑADIMOS EL NUEVO EMPLEADO\n",
    "empleados.append(nuevo_empleado)\n",
    "print(empleados)"
   ]
  },
  {
   "cell_type": "code",
   "execution_count": 39,
   "id": "0da07a89",
   "metadata": {},
   "outputs": [
    {
     "name": "stdout",
     "output_type": "stream",
     "text": [
      "Pedro Álvarez\n",
      "26\n",
      "['Asistente', 'Gestor comercial']\n"
     ]
    }
   ],
   "source": [
    "# Printeamos lo que nos piden\n",
    "print(empleados[2][1])\n",
    "print(empleados[2][2])\n",
    "print(empleados[2][3])\n",
    "\n",
    "# El ultimo punto lo haria con if pero no deja la actividad hacerlo con bucles, tambien podria utilizar class \n",
    "# para diferenciar a cada empleado con sus propias caracteristicas pero el ejercicio solo deja printear"
   ]
  },
  {
   "cell_type": "markdown",
   "id": "4da89624-0da3-4f91-aa5c-a084c5ee1b17",
   "metadata": {},
   "source": [
    "#### Ejercicio 2. \n",
    "\n",
    "Escribe un programa que te diga si una letra es una consonante o una vocal. Crea tu propia **FUNCIÓN**\n"
   ]
  },
  {
   "cell_type": "code",
   "execution_count": 70,
   "id": "c58bf610-92de-4a5a-a00d-652279ea33dd",
   "metadata": {},
   "outputs": [
    {
     "name": "stdout",
     "output_type": "stream",
     "text": [
      "Es consonante\n"
     ]
    }
   ],
   "source": [
    "x = \"l\"\n",
    "\n",
    "def que_es(x):\n",
    "    x.lower\n",
    "    if x == \"a\":\n",
    "        print(\"Es vocal\")\n",
    "    if x == \"e\":\n",
    "        print(\"Es vocal\")\n",
    "    if x == \"i\":\n",
    "        print(\"Es vocal\")\n",
    "    if x == \"o\":\n",
    "        print(\"Es vocal\")\n",
    "    if x == \"u\":\n",
    "        print(\"Es vocal\")\n",
    "    else:\n",
    "        print(\"Es consonante\")\n",
    "\n",
    "que_es(x)"
   ]
  },
  {
   "cell_type": "markdown",
   "id": "52065a6c-3d4c-44c0-a10b-958506c481b3",
   "metadata": {},
   "source": [
    "#### Ejercicio 3. \n",
    "\n",
    "Escribe un programa que calcule la edad humana de un perro.\n",
    "Tienes que pedirle al usuario la edad del perro en años.\n",
    "Si el usuario introduce un número negativo, imprime que la cifra facilitada no tiene sentido. Si el perro tiene un año, son 14 años humanos. Si tiene 2 años, son 22 años humanos.\n",
    "A partir de los 2 años, el cálculo es el siguiente: a la edad del perro se le restan 2 años, el resultado se multiplica por 5 y, finalmente, se le suma 22.\n",
    "Usa una función sin argumentos de entrada ni de salida (muestra toda la información con print())"
   ]
  },
  {
   "cell_type": "code",
   "execution_count": 72,
   "id": "9c59c801-1fe1-4a6d-a000-f85ca738ed00",
   "metadata": {},
   "outputs": [
    {
     "name": "stdout",
     "output_type": "stream",
     "text": [
      "La edad de tu perro es de 1 años\n",
      "El resultado 14 años humanos\n"
     ]
    }
   ],
   "source": [
    "def programa_perro():\n",
    "    edad_perro = int(input(\"Dime la edad de tu perro\"))\n",
    "    print(\"La edad de tu perro es de\", edad_perro, \"años\")\n",
    "    if edad_perro < 0:\n",
    "        print(\"La cifra facilitada no tiene sentido\")\n",
    "    años_humanos = 0\n",
    "    if edad_perro == 1:\n",
    "        años_humanos += 14\n",
    "    if edad_perro == 2:\n",
    "        años_humanos += 22\n",
    "    if edad_perro > 2:\n",
    "        años_humanos = (años_humanos - 2) * 5 + 22\n",
    "    print(f\"El resultado {años_humanos} años humanos\")\n",
    "\n",
    "programa_perro()\n",
    "\n",
    "\n"
   ]
  },
  {
   "cell_type": "markdown",
   "id": "2991309f-4208-431a-900c-d9bc734bb936",
   "metadata": {},
   "source": [
    "#### Ejercicio 4. \n",
    "\n",
    "Escribe un programa que te diga si una frase es un pangrama. Un pangrama es una frase que contiene todas las letras del alfabeto.\n",
    "Puedes tener espacios en blanco, pero NO  tendrás signos de puntuación, a excepción de las tildes.\n",
    "\n",
    "Ejemplo de pangrama:\n",
    "\n",
    "Extraño pan de col y kiwi se quemó bajo fugaz vaho "
   ]
  },
  {
   "cell_type": "code",
   "execution_count": 74,
   "id": "9a349c1e-15ab-4253-97f8-2a07a263791d",
   "metadata": {},
   "outputs": [
    {
     "name": "stdout",
     "output_type": "stream",
     "text": [
      "Tiene mas de 27 letras, puede ser que sea un pangrama\n",
      "No es un pangrama\n",
      "No es un pangrama\n",
      "No es un pangrama\n",
      "No es un pangrama\n",
      "No es un pangrama\n",
      "No es un pangrama\n",
      "No es un pangrama\n",
      "No es un pangrama\n",
      "No es un pangrama\n",
      "No es un pangrama\n",
      "No es un pangrama\n",
      "No es un pangrama\n",
      "No es un pangrama\n",
      "No es un pangrama\n",
      "No es un pangrama\n",
      "No es un pangrama\n",
      "No es un pangrama\n",
      "No es un pangrama\n",
      "No es un pangrama\n",
      "No es un pangrama\n",
      "No es un pangrama\n",
      "No es un pangrama\n",
      "No es un pangrama\n",
      "No es un pangrama\n",
      "No es un pangrama\n",
      "No es un pangrama\n",
      "No es un pangrama\n",
      "No es un pangrama\n",
      "No es un pangrama\n",
      "No es un pangrama\n",
      "No es un pangrama\n",
      "No es un pangrama\n",
      "No es un pangrama\n",
      "No es un pangrama\n",
      "No es un pangrama\n",
      "No es un pangrama\n",
      "No es un pangrama\n",
      "No es un pangrama\n",
      "No es un pangrama\n",
      "No es un pangrama\n",
      "No es un pangrama\n",
      "No es un pangrama\n",
      "No es un pangrama\n",
      "No es un pangrama\n",
      "No es un pangrama\n",
      "No es un pangrama\n",
      "No es un pangrama\n",
      "No es un pangrama\n",
      "No es un pangrama\n",
      "No es un pangrama\n"
     ]
    }
   ],
   "source": [
    "def pangrama(x):\n",
    "    x.lower\n",
    "    if len(x) >= 27:\n",
    "        print(\"Tiene mas de 27 letras, puede ser que sea un pangrama\")\n",
    "        for letra in x:\n",
    "            if letra == \"abcdefghijklmnñopqrstuvwxyz\":\n",
    "                print(\"Es un pangrama\")\n",
    "            else:\n",
    "                print(\"No es un pangrama\")\n",
    "\n",
    "pangrama(x)\n",
    "\n",
    "x = \"Extraño pan de col y kiwi se quemó bajo fugaz vaho\"\n"
   ]
  },
  {
   "cell_type": "markdown",
   "id": "3dbb76e0-79b2-45e8-9034-58ee9cbd82bb",
   "metadata": {},
   "source": [
    "#### Ejercicio 5. \n",
    "\n",
    "Escribe un programa que use diccionarios para traducir palabras entre varios idiomas.\n",
    "Deberás pedirle al usuario una palabra por teclado, ver si está en tu diccionario. En caso de que esté, deberás mostrar la traducción de esa palabra.\n",
    "\n",
    "Ejemplo de diccionario:\n",
    "\n",
    "```python\n",
    "{\"file\": \"Fichier\", \"new\": \"Nouveau\", \"open\": \"Ouvrir\", \"save\": \"Enregistrer\", \"save as\": \"Enregistrer sous\", \"print preview\": \"Apercu avant impressioner\", \"print\": \"Imprimer\", \"close\": \"Fermer\", \"exit\": \"Quitter\"}\n"
   ]
  },
  {
   "cell_type": "code",
   "execution_count": 85,
   "id": "88236123-e8ac-45da-87d0-134a88a690c1",
   "metadata": {},
   "outputs": [
    {
     "name": "stdout",
     "output_type": "stream",
     "text": [
      "Has introducido koala\n",
      "Aqui no se encuentra esa palabra\n"
     ]
    }
   ],
   "source": [
    "palabra = input(\"Introduce tu palabra a traducir\")\n",
    "print(\"Has introducido\", palabra)\n",
    "diccionario = {\"file\": \"Fichier\", \"new\": \"Nouveau\", \"open\": \"Ouvrir\", \"save\": \"Enregistrer\", \"save as\": \"Enregistrer sous\", \"print preview\": \"Apercu avant impressioner\", \"print\": \"Imprimer\", \"close\": \"Fermer\", \"exit\": \"Quitter\"}\n",
    "\n",
    "def traductor(palabra):\n",
    "    for clave, valor in diccionario.items():\n",
    "        if palabra == clave:\n",
    "            print(f\"Su traduccion es {clave} : {valor}\")\n",
    "            break\n",
    "        if palabra == valor:\n",
    "            print(f\"Su traduccion es {valor} : {clave}\")\n",
    "    else:\n",
    "        print(\"Aqui no se encuentra esa palabra\")\n",
    "\n",
    "traductor(palabra)\n",
    "\n",
    "\n"
   ]
  },
  {
   "cell_type": "markdown",
   "id": "61967ca4-7e06-44b3-ad7b-adbc0e71671a",
   "metadata": {},
   "source": [
    "#### Ejercicio 6. (Bonus).\n",
    "\n",
    "Usando `OOP` modela un theremin (es un instrumento musical que se toca modificando el campo electromagnético, por si tenías curiosidad).\n",
    "Tendrá de atributos la marca, el modelo, el peso, la potencia y la batería.\n",
    "\n",
    "Todos los instrumentos se crean con un peso predeterminado de 500, una potencia de 50 y una batería de 200.\n",
    "\n",
    "Cuando se recarga la batería vale 200.\n",
    "\n",
    "Cuando se toca, se muestra por pantalla que está sonando y la batería disminuye 10 (no siendo nunca negativo).\n",
    "Si no hay batería, no puede sonar. Crea un instrumento, tócalo mientras quede batería, cárgalo y no lo vuelvas a tocar.\n"
   ]
  },
  {
   "cell_type": "code",
   "execution_count": null,
   "id": "8082c8cd-03a9-478e-aa72-4ec1306e1bb2",
   "metadata": {},
   "outputs": [],
   "source": []
  },
  {
   "cell_type": "markdown",
   "id": "30f773b5-a6da-4446-b36b-722b2ee57730",
   "metadata": {},
   "source": [
    "#### Ejercicio 7. Extra (NO PUNTÚA).\n",
    "Una empresa usa dos listas  para guardar la información de sus empleados. Una lista guarda el nombre del empleado y la otra guarda su salario. Escribe un programa que cree esas dos listas originalmente vacías y que a través de un menú pueda hacer lo siguiente:\n",
    "    \n",
    "Inserta 1 para añadir un nuevo empleado y su salario\n",
    "\n",
    "Inserta 2 para imprimir los nombres y salarios de todos los empleados\n",
    "\n",
    "Inserta 3 para mostrar el número de empleados\n",
    "\n",
    "Inserta 4 para imprimir los nombres de los empleados con sueldos superiores a 400000\n",
    "\n",
    "Inserta 5 para subir un 5% los sueldos por debajo de 10000\n",
    "\n",
    "Inserta 6 para mostrar el total de todos los salarios\n",
    "\n",
    "Inserta 7 para salir del programa"
   ]
  },
  {
   "cell_type": "code",
   "execution_count": null,
   "id": "67858e27-b7f5-4e05-bc50-3fca698ad22a",
   "metadata": {},
   "outputs": [],
   "source": []
  },
  {
   "cell_type": "markdown",
   "id": "e33a0e21-476e-4103-b889-a6b3e76b99f3",
   "metadata": {},
   "source": [
    "\n",
    "####  Ejercicio 8. EXTRA (NO PUNTÚA).\n",
    "\n",
    "Escribe un programa que __USE RECURSIVIDAD__ para decidir cuál es la película de Pixar favorita de un usuario.\n",
    "El programa preguntará al usuario cuál de 2 películas es su favorita, y con esa favorita se le volverá a preguntar entre esa y otra película cuál es su favorita...y así hasta que el usuario haya decidido de entre todas cuál es su favorita.\n",
    "\n",
    "Pista: si no quieres cambiar una lista, usa copy() y tendrás una copia que es otro objeto\n",
    "\n"
   ]
  },
  {
   "cell_type": "code",
   "execution_count": null,
   "id": "c9936fd4-6d29-4535-9f34-a6f289d18d8b",
   "metadata": {},
   "outputs": [],
   "source": []
  },
  {
   "cell_type": "code",
   "execution_count": 41,
   "id": "10a7b881",
   "metadata": {},
   "outputs": [],
   "source": [
    "# FIN DEL EXAMEN"
   ]
  }
 ],
 "metadata": {
  "kernelspec": {
   "display_name": "Python 3",
   "language": "python",
   "name": "python3"
  },
  "language_info": {
   "codemirror_mode": {
    "name": "ipython",
    "version": 3
   },
   "file_extension": ".py",
   "mimetype": "text/x-python",
   "name": "python",
   "nbconvert_exporter": "python",
   "pygments_lexer": "ipython3",
   "version": "3.12.7"
  }
 },
 "nbformat": 4,
 "nbformat_minor": 5
}
